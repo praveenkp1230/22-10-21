{
 "cells": [
  {
   "cell_type": "code",
   "execution_count": 5,
   "id": "94067283",
   "metadata": {},
   "outputs": [
    {
     "name": "stdout",
     "output_type": "stream",
     "text": [
      "Sample List:  [4, 5, 2, 9]\n",
      "\n",
      "Square the elements of the list :\n",
      "\n",
      "[16, 25, 4, 81]\n"
     ]
    }
   ],
   "source": [
    "def square_num(n):\n",
    "    return n * n\n",
    "nums = [4, 5, 2, 9]\n",
    "print(\"Sample List: \",nums)\n",
    "result = map(square_num, nums)\n",
    "print(\"\\nSquare the elements of the list :\\n\")\n",
    "print(list(result))\n"
   ]
  },
  {
   "cell_type": "code",
   "execution_count": null,
   "id": "f47dfe5a",
   "metadata": {},
   "outputs": [],
   "source": []
  }
 ],
 "metadata": {
  "kernelspec": {
   "display_name": "Python 3 (ipykernel)",
   "language": "python",
   "name": "python3"
  },
  "language_info": {
   "codemirror_mode": {
    "name": "ipython",
    "version": 3
   },
   "file_extension": ".py",
   "mimetype": "text/x-python",
   "name": "python",
   "nbconvert_exporter": "python",
   "pygments_lexer": "ipython3",
   "version": "3.9.6"
  }
 },
 "nbformat": 4,
 "nbformat_minor": 5
}
